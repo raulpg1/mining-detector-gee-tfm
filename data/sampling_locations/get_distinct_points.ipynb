{
 "cells": [
  {
   "cell_type": "code",
   "execution_count": 4,
   "id": "b4253daf-dd7d-4be7-82e6-eec5a6ed27f9",
   "metadata": {},
   "outputs": [],
   "source": [
    "import os\n",
    "import geopandas as gpd\n",
    "from shapely.geometry import Point"
   ]
  },
  {
   "cell_type": "code",
   "execution_count": 19,
   "id": "4223ac1a-2867-4975-916f-7b3c5abc0a81",
   "metadata": {},
   "outputs": [
    {
     "name": "stdout",
     "output_type": "stream",
     "text": [
      "v2.1_bolivar_positives.geojson  igual que  v2.1_bolivar_positives_v2.geojson\n",
      "v2.1_bolivar_positives_v2.geojson  igual que  v2.1_bolivar_positives.geojson\n"
     ]
    }
   ],
   "source": [
    "files = [p for p in os.listdir(\".\") if \".geojson\" in p]\n",
    "for file in files:\n",
    "    for file_aux in [p for p in files if p != file]:\n",
    "        geojson1 = gpd.read_file(file)\n",
    "        geojson2 = gpd.read_file(file_aux)\n",
    "        geojson1['in_other'] = False\n",
    "        # Iterar sobre cada punto en geojson1\n",
    "        for idx1, point1 in geojson1.iterrows():\n",
    "            point1_geom = point1['geometry']\n",
    "            \n",
    "            # Verifica si el punto está en geojson2\n",
    "            if any(point1_geom.equals(point2_geom) for point2_geom in geojson2['geometry']):\n",
    "                geojson1.at[idx1, 'in_other'] = True\n",
    "        \n",
    "        # Mostrar resultados\n",
    "        if sum(geojson1['in_other']) != 0:\n",
    "            print(file,\" igual que \",file_aux)"
   ]
  }
 ],
 "metadata": {
  "kernelspec": {
   "display_name": "Python 3 (ipykernel)",
   "language": "python",
   "name": "python3"
  },
  "language_info": {
   "codemirror_mode": {
    "name": "ipython",
    "version": 3
   },
   "file_extension": ".py",
   "mimetype": "text/x-python",
   "name": "python",
   "nbconvert_exporter": "python",
   "pygments_lexer": "ipython3",
   "version": "3.11.9"
  }
 },
 "nbformat": 4,
 "nbformat_minor": 5
}
